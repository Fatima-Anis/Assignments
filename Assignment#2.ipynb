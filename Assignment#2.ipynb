{
 "cells": [
  {
   "cell_type": "code",
   "execution_count": 2,
   "metadata": {},
   "outputs": [
    {
     "name": "stdout",
     "output_type": "stream",
     "text": [
      "Enter marks of the first subject: 89\n",
      "Enter marks of the second subject: 92\n",
      "Enter marks of the third subject: 65\n",
      "Enter marks of the fourth subject: 90\n",
      "Enter marks of the fifth subject: 91\n",
      "Grade : B\n"
     ]
    }
   ],
   "source": [
    "Math = int(input(\"Enter marks of the first subject: \"))\n",
    "English = int(input(\"Enter marks of the second subject: \"))\n",
    "Urdu = int(input(\"Enter marks of the third subject: \"))\n",
    "Science = int(input(\"Enter marks of the fourth subject: \"))\n",
    "Geography = int(input(\"Enter marks of the fifth subject: \"))\n",
    "avg = (Math+English+Urdu+Science+Geography)/5\n",
    "if avg >= 90 :\n",
    " print(\"Grade: A\")\n",
    "elif avg >= 80 and avg < 90 :\n",
    " print(\"Grade : B\")\n",
    "elif avg >= 70 and  avg < 80 :\n",
    " print(\"Grade : C\")\n",
    "elif avg >= 0 and avg < 70 :\n",
    " print(\"Fail\")\n",
    "else :\n",
    " print(\"You have given inappropriate avg\")"
   ]
  },
  {
   "cell_type": "code",
   "execution_count": 3,
   "metadata": {},
   "outputs": [
    {
     "name": "stdout",
     "output_type": "stream",
     "text": [
      "Enter a number :32\n",
      "It is Even\n"
     ]
    }
   ],
   "source": [
    "num = int(input(\"Enter a number :\"))\n",
    "if num % 2 == 0 :\n",
    " print(\"It is Even\")\n",
    "else :\n",
    " print(\"It is Odd\")"
   ]
  },
  {
   "cell_type": "code",
   "execution_count": 4,
   "metadata": {},
   "outputs": [
    {
     "name": "stdout",
     "output_type": "stream",
     "text": [
      "The length of the list is : 3\n"
     ]
    }
   ],
   "source": [
    "arr = len([5 , 10 , 15])\n",
    "print(\"The length of the list is :\" , arr)"
   ]
  },
  {
   "cell_type": "code",
   "execution_count": 5,
   "metadata": {},
   "outputs": [
    {
     "name": "stdout",
     "output_type": "stream",
     "text": [
      "18\n"
     ]
    }
   ],
   "source": [
    "arr1 = [3 , 6 , 9 ]\n",
    "b= sum(arr1)\n",
    "print(b)"
   ]
  },
  {
   "cell_type": "code",
   "execution_count": 6,
   "metadata": {},
   "outputs": [
    {
     "name": "stdout",
     "output_type": "stream",
     "text": [
      "Largest number is : 25\n"
     ]
    }
   ],
   "source": [
    "list1 = [15 , 20 , 25]\n",
    "print(\"Largest number is :\" , max(list1))"
   ]
  },
  {
   "cell_type": "code",
   "execution_count": 7,
   "metadata": {},
   "outputs": [
    {
     "name": "stdout",
     "output_type": "stream",
     "text": [
      "1\n",
      "1\n",
      "2\n",
      "3\n"
     ]
    }
   ],
   "source": [
    "a = [1 , 1, 2 , 3 , 5, 8 , 13 ,21 , 34 , 55 , 89]\n",
    "for i in a :\n",
    "    if i < 5 :\n",
    "     print(i)"
   ]
  },
  {
   "cell_type": "code",
   "execution_count": null,
   "metadata": {},
   "outputs": [],
   "source": []
  }
 ],
 "metadata": {
  "kernelspec": {
   "display_name": "Python 3",
   "language": "python",
   "name": "python3"
  },
  "language_info": {
   "codemirror_mode": {
    "name": "ipython",
    "version": 3
   },
   "file_extension": ".py",
   "mimetype": "text/x-python",
   "name": "python",
   "nbconvert_exporter": "python",
   "pygments_lexer": "ipython3",
   "version": "3.7.4"
  }
 },
 "nbformat": 4,
 "nbformat_minor": 2
}
