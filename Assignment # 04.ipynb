{
 "cells": [
  {
   "cell_type": "markdown",
   "metadata": {},
   "source": [
    "# 1, Use a dictionary to store information about a person you know . Store their first name , last name , age , and the city in which they live . You should have keys such as first_name , last_name ,age and city . Print each piece of information stored in your dictionary . Add new key value pair about qualification then update the qualification value to high academic level then delete it."
   ]
  },
  {
   "cell_type": "code",
   "execution_count": 3,
   "metadata": {},
   "outputs": [
    {
     "name": "stdout",
     "output_type": "stream",
     "text": [
      "{'First_name': 'Saba', 'Last_name': 'Rafiq', 'Age': 25, 'City': 'Karachi'}\n",
      "{'First_name': 'Saba', 'Last_name': 'Rafiq', 'Age': 25, 'City': 'Karachi', 'Qualification': 'Matric'}\n",
      "{'First_name': 'Saba', 'Last_name': 'Rafiq', 'Age': 25, 'City': 'Karachi', 'Qualification': 'High Academic Level'}\n",
      "{'First_name': 'Saba', 'Last_name': 'Rafiq', 'Age': 25, 'City': 'Karachi'}\n"
     ]
    }
   ],
   "source": [
    "Best_Friend = {\n",
    "    \"First_name\" : \"Saba\" , \"Last_name\" : \"Rafiq\" , \"Age\" : 25 , \"City\" : \"Karachi\"\n",
    "}\n",
    "print(Best_Friend)\n",
    "\n",
    "Best_Friend[\"Qualification\"] = \"Matric\"\n",
    "print(Best_Friend)\n",
    "\n",
    "Best_Friend[\"Qualification\"] = \"High Academic Level\"\n",
    "print(Best_Friend)\n",
    "\n",
    "del Best_Friend[\"Qualification\"]\n",
    "print(Best_Friend)"
   ]
  },
  {
   "cell_type": "markdown",
   "metadata": {},
   "source": [
    "#  2, Make a dictionary called cities . Use the names of three cities as keys in your dictionary . Create a dictionary of information about each city and include the country that the city is in , its appropriate population , and one fact about that city . The keys for each city's dictionary should be something like country , population , and fact . Print the name of each city and all of the information you have stored about it ."
   ]
  },
  {
   "cell_type": "code",
   "execution_count": 22,
   "metadata": {},
   "outputs": [
    {
     "name": "stdout",
     "output_type": "stream",
     "text": [
      "{'Cappadocia': {'Country': 'Turkey', 'Population': 310000, 'Fact': 'The Land Of Beatiful Horses'}, 'Venice': {'Country': 'Italy', 'Population': 261905, 'Fact': 'City Of Land'}, 'Prague': {'Country': 'Czechia', 'Population': 1.309, 'Fact': 'Home Of Cultural Attraction'}}\n"
     ]
    }
   ],
   "source": [
    "# Cities To Be Visit Soon\n",
    "Cities = {\n",
    "    \"Cappadocia\" :\n",
    "    {\n",
    "        \"Country\" : \"Turkey\" , \n",
    "        \"Population\" : 310000 ,\n",
    "        \"Fact\" : \"The Land Of Beatiful Horses\"\n",
    "    } , \n",
    "    \"Venice\" :\n",
    "    {\n",
    "        \"Country\" : \"Italy\" ,\n",
    "        \"Population\" : 261905 ,\n",
    "        \"Fact\" : \"City Of Land\"\n",
    "    } ,\n",
    "    \"Prague\" :\n",
    "    {\n",
    "        \"Country\" : \"Czechia\" ,\n",
    "        \"Population\" : 1.309000000 ,\n",
    "        \"Fact\" : \"Home Of Cultural Attraction\"\n",
    "    }\n",
    "}\n",
    "print(Cities)"
   ]
  },
  {
   "cell_type": "markdown",
   "metadata": {},
   "source": [
    " #  3, A movie theater charges different ticket prices dependind on a person's age . If a person is under the age of 3 , the ticket is free ; if they are between 3 and 12 , the ticket is dollar 10 ; and if they are over age 12 , the ticket is dollar 15 . Write a loop in which you ask user age , and then tell them the cost their movie ticket."
   ]
  },
  {
   "cell_type": "code",
   "execution_count": 25,
   "metadata": {},
   "outputs": [
    {
     "name": "stdout",
     "output_type": "stream",
     "text": [
      "Enter Your age :13\n",
      "Your Ticket Is $15\n"
     ]
    }
   ],
   "source": [
    "Age = int(input(\"Enter Your age :\"))\n",
    "\n",
    "if Age <3 :\n",
    "    print(\"Your Ticket Is Free !\")\n",
    "elif Age >=3 and Age <= 12 :\n",
    "    print(\"Your Tickect Is $10 !\")\n",
    "else :\n",
    "    print(\"Your Ticket Is $15\")"
   ]
  },
  {
   "cell_type": "markdown",
   "metadata": {},
   "source": [
    "#  4, Write a funtion called favorite_book() that accepts one parameter , title . The function should print a message , such as one of my favorite books is Alice in Wonderland . Call the function , making sure to include a book title as an arguement in the function call ."
   ]
  },
  {
   "cell_type": "code",
   "execution_count": 26,
   "metadata": {},
   "outputs": [
    {
     "name": "stdout",
     "output_type": "stream",
     "text": [
      "Pride or Prejudice is one of my favorite book\n"
     ]
    }
   ],
   "source": [
    "def Favorite_Book(title) :\n",
    "    print(title + \" is one of my favorite book\")\n",
    "    \n",
    "Favorite_Book(\"Pride or Prejudice\")"
   ]
  },
  {
   "cell_type": "markdown",
   "metadata": {},
   "source": [
    "# 5, Guess the number game.\n",
    "\n",
    "# write a program which randomly generate a number between 1 to 30 and ask the user in input field touess guess the correct number . Give three chances to user guess the number and also give hint to user if hidden number is greater or smaller than the number he given to input field."
   ]
  },
  {
   "cell_type": "code",
   "execution_count": 7,
   "metadata": {},
   "outputs": [
    {
     "name": "stdout",
     "output_type": "stream",
     "text": [
      "Guess any number from 1 to 30:8\n",
      "You Guess The Higher Number!\n",
      "Correct Number Is : 11\n",
      "Guess any number from 1 to 30:12\n",
      "You Guess The Higher Number!\n",
      "Correct Number Is : 16\n",
      "Guess any number from 1 to 30:8\n",
      "You Guess The Higher Number!\n",
      "Correct Number Is : 9\n"
     ]
    }
   ],
   "source": [
    "import random\n",
    "count = 0 \n",
    "while count < 3 : \n",
    "    guess = int(input(\"Guess any number from 1 to 30:\"))\n",
    "    count += 1\n",
    "    n = random.randint(1,30)\n",
    "    if guess == n:\n",
    "        print(\"You Guess The Correct Number!\")\n",
    "    elif  guess >n:\n",
    "        print(\"You Guess The Lower Number!\")\n",
    "    else:\n",
    "        guess < n\n",
    "        print(\"You Guess The Higher Number!\")\n",
    "        print(\"Correct Number Is :\", n)"
   ]
  },
  {
   "cell_type": "code",
   "execution_count": null,
   "metadata": {},
   "outputs": [],
   "source": []
  },
  {
   "cell_type": "code",
   "execution_count": null,
   "metadata": {},
   "outputs": [],
   "source": []
  }
 ],
 "metadata": {
  "kernelspec": {
   "display_name": "Python 3",
   "language": "python",
   "name": "python3"
  },
  "language_info": {
   "codemirror_mode": {
    "name": "ipython",
    "version": 3
   },
   "file_extension": ".py",
   "mimetype": "text/x-python",
   "name": "python",
   "nbconvert_exporter": "python",
   "pygments_lexer": "ipython3",
   "version": "3.7.4"
  }
 },
 "nbformat": 4,
 "nbformat_minor": 2
}
