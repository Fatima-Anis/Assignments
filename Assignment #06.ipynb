{
 "cells": [
  {
   "cell_type": "markdown",
   "metadata": {},
   "source": [
    "# Question 1:\n",
    "# Define Object Oriented Programming Language?\n",
    "\n",
    "\n",
    "# Answer :\n",
    "Object Oriented Programming Language (OOP) is a paradigm in which real-world objects are each viewed as separate entities having their own state which is modified only by built in procedure called method.\n",
    "It is an approach which solve problems in programming by creating an object.The concept of OOP is known as DRY because it focus in creating reuseable code. "
   ]
  },
  {
   "cell_type": "markdown",
   "metadata": {},
   "source": [
    "# Question 2:\n",
    "# List down the Benefits of OOP?\n",
    "\n",
    "# Answer :\n",
    "1)It provides a clear modular structure for programs which makes it good for defining abstract data types in which implementation details are hidden.\n",
    "\n",
    "2)Objects can also be reused with in an accross application.\n",
    "\n",
    "3)It makes software easier to use .\n",
    "\n",
    "4)Reuse also enables faster devolopement .\n"
   ]
  },
  {
   "cell_type": "markdown",
   "metadata": {},
   "source": [
    "# Question 3:\n",
    "# Differentiate between function and method?\n",
    "\n",
    "# Answer :\n",
    "Functions are defined outside of the class while Method is defined inside of and part of classes.\n",
    "A function is a piece of code that is called by name . while Method is a piece of code that is called a name that is associated with an object."
   ]
  },
  {
   "cell_type": "markdown",
   "metadata": {},
   "source": [
    "# Question 4:\n",
    "# Define the following terms:\n",
    "# 1. Class\n",
    "\n",
    "It is a template about the capability of what an object can do.\n",
    "\n",
    "\n",
    "# 2. Object\n",
    "\n",
    "An object is an instantiation of a class .\n",
    "\n",
    "# 3. Attribute\n",
    "\n",
    "Attributes are the properties of object.\n",
    "\n",
    "# 4. Behavior\n",
    "\n",
    "A class's behavior determines how an instance of that class operates ."
   ]
  },
  {
   "cell_type": "markdown",
   "metadata": {},
   "source": [
    "# Question 5:\n",
    "# Write a code in python in which create a class named it Car which have 5 attributes such like (model, color and name etc.) and 3 methods. And create 5 object instance from that class."
   ]
  },
  {
   "cell_type": "code",
   "execution_count": 5,
   "metadata": {},
   "outputs": [
    {
     "name": "stdout",
     "output_type": "stream",
     "text": [
      "Car Properties\n",
      "Name         : Mehran\n",
      "Model        : 2009\n",
      "Color        : White\n",
      "Speed        :  10km per hour\n",
      "Transmission : Manual \n",
      "\n",
      "Car Properties\n",
      "Name         : Civic\n",
      "Model        : 2012\n",
      "Color        : Grey\n",
      "Speed        : 20km per hour\n",
      "Transmission : Auto \n",
      "\n",
      "Car Properties\n",
      "Name         : XYZ\n",
      "Model        : 2013\n",
      "Color        : Black\n",
      "Speed        : 10km per hour\n",
      "Transmission : Auto \n",
      "\n",
      "Car Properties\n",
      "Name         : ABC\n",
      "Model        : 2010\n",
      "Color        : Grey\n",
      "Speed        : 10Km per hour\n",
      "Transmission : Manual \n",
      "\n",
      "Car Properties\n",
      "Name         : GHI\n",
      "Model        : 2011\n",
      "Color        : Purple\n",
      "Speed        : 10km per hour\n",
      "Transmission : Auto \n",
      "\n",
      "Before Changing :  Mehran\n",
      "After Changing :  Alto\n",
      "Before Changing :  2009\n",
      "After Changing :  2007\n"
     ]
    }
   ],
   "source": [
    "class car():\n",
    "    def __init__(self, name, model, color , speed  , transmission):\n",
    "        self.name = name\n",
    "        self.model = model\n",
    "        self.color = color\n",
    "        self.speed = speed\n",
    "        self.transmission= transmission\n",
    "        \n",
    "    def show_properties(self):\n",
    "        print(\"Car Properties\")\n",
    "        print(f\"Name         : {self.name}\")\n",
    "        print(f\"Model        : {self.model}\")\n",
    "        print(f\"Color        : {self.color}\")\n",
    "        print(f\"Speed        : {self.speed}\")\n",
    "        print(f\"Transmission : {self.transmission} \\n\")\n",
    "        \n",
    "        \n",
    "    def update_name(self,newname):\n",
    "        self.name= newname\n",
    "        \n",
    "    def update_model(self,newmodel):\n",
    "        self.model = newmodel\n",
    "        \n",
    "car1 = car(\"Mehran\" , 2009 , \"White\" ,\" 10km per hour\" , \"Manual\")\n",
    "car2 = car(\"Civic\", 2012 , \"Grey\", \"20km per hour\" , \"Auto\")\n",
    "car3 = car (\"XYZ\", 2013 , \"Black\" ,\"10km per hour\" , \"Auto\")\n",
    "car4 = car(\"ABC\" , 2010 , \"Grey\", \"10Km per hour\" , \"Manual\")\n",
    "car5 = car(\"GHI\" , 2011 , \"Purple\" , \"10km per hour\" , \"Auto\")\n",
    "\n",
    "car1.show_properties()\n",
    "car2.show_properties()\n",
    "car3.show_properties()\n",
    "car4.show_properties()\n",
    "car5.show_properties()\n",
    "\n",
    "\n",
    "print(\"Before Changing : \",car1.name)\n",
    "car1.update_name(\"Alto\")\n",
    "print(\"After Changing : \",car1.name)\n",
    "\n",
    "print(\"Before Changing : \",car1.model)\n",
    "car1.update_model(2007)\n",
    "print(\"After Changing : \",car1.model)"
   ]
  },
  {
   "cell_type": "code",
   "execution_count": null,
   "metadata": {},
   "outputs": [],
   "source": []
  }
 ],
 "metadata": {
  "kernelspec": {
   "display_name": "Python 3",
   "language": "python",
   "name": "python3"
  },
  "language_info": {
   "codemirror_mode": {
    "name": "ipython",
    "version": 3
   },
   "file_extension": ".py",
   "mimetype": "text/x-python",
   "name": "python",
   "nbconvert_exporter": "python",
   "pygments_lexer": "ipython3",
   "version": "3.7.4"
  }
 },
 "nbformat": 4,
 "nbformat_minor": 2
}
