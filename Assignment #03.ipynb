{
 "cells": [
  {
   "cell_type": "markdown",
   "metadata": {},
   "source": [
    "# 1, Make a calculator using python with addition , subtraction , multiplication and dsivision and power"
   ]
  },
  {
   "cell_type": "code",
   "execution_count": 1,
   "metadata": {},
   "outputs": [
    {
     "name": "stdout",
     "output_type": "stream",
     "text": [
      "Enter first value 10\n",
      "Enter second value 260\n",
      "Enter operator /\n",
      "0.038461538461538464 answer\n"
     ]
    }
   ],
   "source": [
    "val1 = input('Enter first value ')\n",
    "val2 = input('Enter second value ')\n",
    "operator = input('Enter operator ')\n",
    "\n",
    "val1 = int(val1)\n",
    "val2 = int(val2)\n",
    "\n",
    "if operator == '+' :\n",
    "    val = val1 + val2\n",
    "    print(val, 'answer')\n",
    "elif operator == '-' :\n",
    "    val = val1 - val2\n",
    "    print(val, 'answer')\n",
    "elif operator == '*' :\n",
    "    val = val1 * val2\n",
    "    print(val, 'answer')\n",
    "elif operator == '/' :\n",
    "    val = val1 / val2\n",
    "    print(val, 'answer')\n",
    "else :\n",
    "    print('Enter Correct Operator')"
   ]
  },
  {
   "cell_type": "markdown",
   "metadata": {},
   "source": [
    "# 2, Write a program to check if there is any numeric value in list using for loop."
   ]
  },
  {
   "cell_type": "code",
   "execution_count": 2,
   "metadata": {},
   "outputs": [
    {
     "name": "stdout",
     "output_type": "stream",
     "text": [
      "A Is Character\n",
      "B Is Character\n",
      "1 Is Numeric\n",
      "2 Is Numeric\n",
      "3 Is Numeric\n",
      "C Is Character\n"
     ]
    }
   ],
   "source": [
    "def is_number(s):\n",
    "    try:\n",
    "        int(s)\n",
    "        return True\n",
    "    except ValueError :\n",
    "        pass\n",
    "    return False\n",
    "\n",
    "list = ['A','B',1,2,3,'C'];\n",
    "for x in list:\n",
    "    if(is_number(x))==True:\n",
    "        print(str(x)+' Is Numeric')\n",
    "    else:\n",
    "        print(x + ' Is Character')"
   ]
  },
  {
   "cell_type": "markdown",
   "metadata": {},
   "source": [
    "# 3, Write a python script to add a key to a Dictionary"
   ]
  },
  {
   "cell_type": "code",
   "execution_count": 3,
   "metadata": {},
   "outputs": [
    {
     "name": "stdout",
     "output_type": "stream",
     "text": [
      "{'First name': 'Arbia', 'Last name ': 'Parekh ', 'Address': 'ABC Road Karachi'}\n",
      "{'First name': 'Arbia', 'Last name ': 'Parekh ', 'Address': 'ABC Road Karachi', 'Blood group': 'A+'}\n"
     ]
    }
   ],
   "source": [
    "Student_224 = {\"First name\" : \"Arbia\" , \"Last name \" : \"Parekh \" , \"Address\" : \"ABC Road Karachi\"}\n",
    "print(Student_224)\n",
    "Student_224.update({\"Blood group\" : \"A+\"})\n",
    "print(Student_224)"
   ]
  },
  {
   "cell_type": "markdown",
   "metadata": {},
   "source": [
    "# 4, Write a python program to sum all the numeric items in a Dictionary."
   ]
  },
  {
   "cell_type": "code",
   "execution_count": 4,
   "metadata": {},
   "outputs": [
    {
     "name": "stdout",
     "output_type": "stream",
     "text": [
      "408\n"
     ]
    }
   ],
   "source": [
    "Marks_of_student_224 = {\"English\" : 72 , \"Maths\" : 89 , \"Urdu\" : 76 , \"Science\" : 92 , \"Islamiat\" : 79}\n",
    "print(sum(Marks_of_student_224.values()))"
   ]
  },
  {
   "cell_type": "markdown",
   "metadata": {},
   "source": [
    "# 5, Write a python program to find duplicate values from list."
   ]
  },
  {
   "cell_type": "code",
   "execution_count": 5,
   "metadata": {},
   "outputs": [
    {
     "name": "stdout",
     "output_type": "stream",
     "text": [
      "5\n",
      "40\n",
      "50\n",
      "60\n"
     ]
    }
   ],
   "source": [
    "my_list = [5, 5 , 95 , 31 , 40 , 50 , 60 , 11 , 60 , 40 , 50 , 15]\n",
    "my_list.sort()\n",
    "for i in range (len (my_list) -1):\n",
    "    if my_list[i] == my_list[i+1]:\n",
    "        print(my_list[i])"
   ]
  },
  {
   "cell_type": "markdown",
   "metadata": {},
   "source": [
    "# 6, Write a python Script to check if a given key already exist in a dictionary. "
   ]
  },
  {
   "cell_type": "code",
   "execution_count": 6,
   "metadata": {},
   "outputs": [
    {
     "name": "stdout",
     "output_type": "stream",
     "text": [
      "Key Is Present In The Dictionary\n",
      "Key Is Not Present In The Dictionary\n"
     ]
    }
   ],
   "source": [
    "Student_230 = {\"First name\" : \"Anaya\" , \"Last name \" : \"Khizar \" , \"Address\" : \"ABC Road Karachi\"}\n",
    "def is_key_present(x):\n",
    "    if x in Student_230 :\n",
    "        print(\"Key Is Present In The Dictionary\")\n",
    "    else:\n",
    "        print (\"Key Is Not Present In The Dictionary\")\n",
    "is_key_present(\"Address\")\n",
    "is_key_present(\"Phone number\")"
   ]
  }
 ],
 "metadata": {
  "kernelspec": {
   "display_name": "Python 3",
   "language": "python",
   "name": "python3"
  },
  "language_info": {
   "codemirror_mode": {
    "name": "ipython",
    "version": 3
   },
   "file_extension": ".py",
   "mimetype": "text/x-python",
   "name": "python",
   "nbconvert_exporter": "python",
   "pygments_lexer": "ipython3",
   "version": "3.7.4"
  }
 },
 "nbformat": 4,
 "nbformat_minor": 2
}
