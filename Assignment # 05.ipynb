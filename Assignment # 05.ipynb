{
 "cells": [
  {
   "cell_type": "markdown",
   "metadata": {},
   "source": [
    "# 1, Write a Python function to calculate the factorial of a number (a non-negative integer). The function accepts the number as an argument."
   ]
  },
  {
   "cell_type": "code",
   "execution_count": 8,
   "metadata": {},
   "outputs": [
    {
     "name": "stdout",
     "output_type": "stream",
     "text": [
      "Enter a number to compute factorial :6\n",
      "720\n"
     ]
    }
   ],
   "source": [
    "def fac(n):\n",
    "    if n == 0:\n",
    "        return 1\n",
    "    else:\n",
    "        return n * fac(n-1)\n",
    "n=int(input(\"Enter a number to compute factorial :\"))\n",
    "print(fac(n))    "
   ]
  },
  {
   "cell_type": "markdown",
   "metadata": {},
   "source": [
    "# 2, Write a Python function that accepts a string and calculate the number of upper case letters and lower case letters."
   ]
  },
  {
   "cell_type": "code",
   "execution_count": 16,
   "metadata": {},
   "outputs": [
    {
     "name": "stdout",
     "output_type": "stream",
     "text": [
      "Given text is : A Quick Brown Fox Jump Over The Lazy Dog\n",
      "Number Of Upper Case: 9\n",
      "Number Of Lower Case: 23\n"
     ]
    }
   ],
   "source": [
    "def check_string(text):\n",
    "    print(\"Given text is :\" , text)\n",
    "    myVar={\"Upper_Case\":0, \"Lower_Case\":0}\n",
    "    for Case in text:\n",
    "        if Case.isupper():\n",
    "            myVar[\"Upper_Case\"]+=1\n",
    "        elif Case.islower():\n",
    "            myVar[\"Lower_Case\"]+=1\n",
    "        else:\n",
    "            pass\n",
    "    \n",
    "    print(\"Number Of Upper Case:\", myVar[\"Upper_Case\"])\n",
    "    print(\"Number Of Lower Case:\", myVar[\"Lower_Case\"])\n",
    "    \n",
    "check_string(\"A Quick Brown Fox Jump Over The Lazy Dog\")"
   ]
  },
  {
   "cell_type": "markdown",
   "metadata": {},
   "source": [
    "# 3, Write a Python function to print the even numbers from a given list."
   ]
  },
  {
   "cell_type": "code",
   "execution_count": 14,
   "metadata": {},
   "outputs": [
    {
     "name": "stdout",
     "output_type": "stream",
     "text": [
      "[12, 32, 54, 22]\n"
     ]
    }
   ],
   "source": [
    "def is_even_num(n):\n",
    "        return list(i for i in n if i % 2 ==0 )\n",
    "print(is_even_num([15 , 12 , 1 , 32 , 54 , 22 , 77 , 63]))"
   ]
  },
  {
   "cell_type": "markdown",
   "metadata": {},
   "source": [
    "# 4, Write a Python function that checks whether a passed string is palindrome or not.\n",
    "# Note: A palindrome is a word, phrase, or sequence that reads the same backward as forward, e.g., madam"
   ]
  },
  {
   "cell_type": "code",
   "execution_count": 21,
   "metadata": {},
   "outputs": [
    {
     "name": "stdout",
     "output_type": "stream",
     "text": [
      "True\n"
     ]
    }
   ],
   "source": [
    "def palindrome(string):\n",
    "    left_pos = 0\n",
    "    right_pos = len(string)-1\n",
    "    while right_pos >= left_pos:\n",
    "        if not string[left_pos ] == string[right_pos]:\n",
    "            return False\n",
    "        left_pos +=1\n",
    "        right_pos -=1\n",
    "    return True\n",
    "print(palindrome(\"madam\"))\n"
   ]
  },
  {
   "cell_type": "markdown",
   "metadata": {},
   "source": [
    "# 5, Write a Python function that takes a number as a parameter and check the number is prime or not."
   ]
  },
  {
   "cell_type": "code",
   "execution_count": 24,
   "metadata": {},
   "outputs": [
    {
     "name": "stdout",
     "output_type": "stream",
     "text": [
      "True\n"
     ]
    }
   ],
   "source": [
    "def test_prime(n):\n",
    "    if(n==1):\n",
    "        return False\n",
    "    elif (n==2):\n",
    "        return True\n",
    "    else:\n",
    "        for x in range(2,n):\n",
    "            if(n%x==0):\n",
    "                return False\n",
    "        return True\n",
    "print(test_prime(3))"
   ]
  },
  {
   "cell_type": "markdown",
   "metadata": {},
   "source": [
    "# 6, Suppose a customer is shopping in a market and you need to print all the items which user bought from market.\n",
    "# Write a function which accepts the multiple arguments of user shopping list and print all the items which user bought from market."
   ]
  },
  {
   "cell_type": "code",
   "execution_count": 1,
   "metadata": {},
   "outputs": [
    {
     "name": "stdout",
     "output_type": "stream",
     "text": [
      "What should we buy from the shops\n",
      "Enter 'OKAY' to stop adding items\n",
      "> Chocolate\n",
      "> Brown Sugar\n",
      "> Flour\n",
      "> Yeast\n",
      "> coconut Powder\n",
      "> Milk\n",
      "> OKAY\n",
      "Here's your list:\n",
      "Chocolate\n",
      "Brown Sugar\n",
      "Flour\n",
      "Yeast\n",
      "coconut Powder\n",
      "Milk\n"
     ]
    }
   ],
   "source": [
    "shopping_list = []\n",
    "\n",
    "print(\"What should we buy from the shops\")\n",
    "print(\"Enter 'OKAY' to stop adding items\")\n",
    "\n",
    "while True:\n",
    "    new_item = input(\"> \")\n",
    "\n",
    "    if new_item == 'OKAY':\n",
    "        break\n",
    "\n",
    "    shopping_list.append(new_item)\n",
    "\n",
    "print(\"Here's your list:\")\n",
    "\n",
    "for item in shopping_list:\n",
    "    print(item)"
   ]
  },
  {
   "cell_type": "code",
   "execution_count": null,
   "metadata": {},
   "outputs": [],
   "source": []
  }
 ],
 "metadata": {
  "kernelspec": {
   "display_name": "Python 3",
   "language": "python",
   "name": "python3"
  },
  "language_info": {
   "codemirror_mode": {
    "name": "ipython",
    "version": 3
   },
   "file_extension": ".py",
   "mimetype": "text/x-python",
   "name": "python",
   "nbconvert_exporter": "python",
   "pygments_lexer": "ipython3",
   "version": "3.7.4"
  }
 },
 "nbformat": 4,
 "nbformat_minor": 2
}
